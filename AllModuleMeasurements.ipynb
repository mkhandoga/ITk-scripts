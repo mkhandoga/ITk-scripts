{
 "cells": [
  {
   "cell_type": "code",
   "execution_count": 12,
   "metadata": {},
   "outputs": [],
   "source": [
    "#Authorize the API\n",
    "scope = [\n",
    "    'https://www.googleapis.com/auth/drive',\n",
    "    'https://www.googleapis.com/auth/drive.file'\n",
    "    ]\n",
    "file_name = 'indigo-muse-308423-829adc108f27.json'\n",
    "creds = ServiceAccountCredentials.from_json_keyfile_name(file_name,scope)\n",
    "client = gspread.authorize(creds)"
   ]
  },
  {
   "cell_type": "code",
   "execution_count": 39,
   "metadata": {
    "scrolled": false
   },
   "outputs": [
    {
     "name": "stdout",
     "output_type": "stream",
     "text": [
      "[]\n"
     ]
    }
   ],
   "source": [
    "#Fetch the sheet\n",
    "import gspread\n",
    "import pprint\n",
    "gc = gspread.service_account(\"indigo-muse-308423-829adc108f27.json\")\n",
    "sheet = gc.open_by_key(\"1TuGsXDgg0SdahDFKBd9dPFo0fV2Q2wG0BbVTeoSJeJM\").get_worksheet(1)\n",
    "python_sheet = sheet.get_all_records()\n",
    "pp = pprint.PrettyPrinter()\n",
    "pp.pprint(python_sheet)"
   ]
  },
  {
   "cell_type": "code",
   "execution_count": 23,
   "metadata": {},
   "outputs": [],
   "source": [
    "import glob\n",
    "files = glob.glob(\"mm_outputs/quad*.txt\")"
   ]
  },
  {
   "cell_type": "code",
   "execution_count": 298,
   "metadata": {},
   "outputs": [],
   "source": [
    "def trim_data(data):\n",
    "    trimmed_data = []\n",
    "    for el in data:\n",
    "        if el[0][0] == '\"' and \"Points 3D RM\" not in el[0]:\n",
    "            trimmed_data.append(el)\n",
    "    return trimmed_data\n",
    "\n",
    "def trim_filename(filename):\n",
    "    fn = filename\n",
    "    fn = fn.split(\"/\")\n",
    "    fn = fn[1].split(\".\")\n",
    "    fn = fn[0]\n",
    "    return fn\n",
    "\n",
    "def sort_vac_novac(tdata):\n",
    "    vac_rows = []\n",
    "    novac_rows = []\n",
    "    for el in tdata:\n",
    "        if \"NoVac\" in el[0]:\n",
    "            novac_rows.append(el)\n",
    "        else:\n",
    "            vac_rows.append(el)\n",
    "    return vac_rows, novac_rows\n",
    "\n",
    "def get_novac_row(novac_data):\n",
    "    novac_row = []\n",
    "    novac_values = [0,2,1]\n",
    "    for k in range (0,5):\n",
    "        for el in novac_values:\n",
    "            novac_row.append(novac_data[el+k*len(novac_values)])\n",
    "    return novac_row\n",
    "\n",
    "\n",
    "def get_distances(in_vac_data):\n",
    "    distance_values = []\n",
    "    for el in in_vac_data:\n",
    "        if \"Distance\" in el[0] or \"Angle\"in el[0] :\n",
    "            distance_values.append(el)\n",
    "    return distance_values\n",
    "    \n"
   ]
  },
  {
   "cell_type": "code",
   "execution_count": 306,
   "metadata": {},
   "outputs": [
    {
     "name": "stdout",
     "output_type": "stream",
     "text": [
      "36\n"
     ]
    }
   ],
   "source": [
    "column_names = [\"Module name\",\"FE_LL: Centre Z\",\"FE_LL: Z RMS\", \"FE_LL Planarity\", \n",
    "               \"FE_UL: Centre Z\",\"FE_UL: Z RMS\", \"FE_UL Planarity\", \n",
    "               \"FE_LR: Centre Z\",\"FE_LR: Z RMS\", \"FE_LR Planarity\", \n",
    "               \"FE_UR: Centre Z\",\"FE_UR: Z RMS\", \"FE_UR Planarity\", \n",
    "               \"Sensor: Centre Z\",\"Sensor: Z RMS\", \"Sensor Planarity\",\n",
    "                \"Dist SensorY\", \"Dist SensorX\", \n",
    "                \"Dist FE_UR_Y\", \"Dist FE_LR_Y\", \"Dist FE_LL_Y\", \"Dist FE_UL_Y\", \n",
    "                \"Dist FE_ULtoSensor_X\", \"Dist FE_LLtoSensor_X\",\"Dist FE_LRtoSensor_X\", \"Dist FE_URtoSensor_X\",\n",
    "                 \"Dist FE_Left_DY\", \"Dist FE_Right_DY\", \n",
    "                \"Angle TiltUL\", \"Angle TiltUL RMS\", \"Angle TiltLL\", \"Angle TiltLL RMS\", \n",
    "                \"Angle TiltLR\", \"Angle TiltLr RMS\", \"Angle TiltUR\", \"Angle TiltUR RMS\"\n",
    "               ]\n",
    "print (len(column_names))"
   ]
  },
  {
   "cell_type": "code",
   "execution_count": 308,
   "metadata": {},
   "outputs": [
    {
     "name": "stdout",
     "output_type": "stream",
     "text": [
      "mm_outputs/quad_rd53a_module4.txt\n",
      "['quad_rd53a_module4 NoVac', '0.522', '0.005', '0.025', '0.505', '0.005', '0.020', '0.430', '0.004', '0.025', '0.430', '0.004', '0.023', '0.615', '0.016', '0.057']\n",
      "['quad_rd53a_module4Vac', '0.408', '0.005', '0.024', '0.402', '0.005', '0.021', '0.407', '0.004', '0.023', '0.404', '0.005', '0.027', '0.567', '0.005', '0.026', '41.049', '39.446', '20.093', '20.094', '20.094', '20.093', '1.362', '1.355', '1.366', '1.360', '0.101', '0.104', '0.000', '0.017', '0.001', '0.001', '0.005', '0.000', '0.000', '0.001']\n",
      "mm_outputs/quad_rd53a_module5.txt\n",
      "['quad_rd53a_module5 NoVac', '0.434', '0.005', '0.024', '0.417', '0.005', '0.025', '0.497', '0.004', '0.022', '0.497', '0.004', '0.020', '0.602', '0.015', '0.051']\n",
      "['quad_rd53a_module5Vac', '0.402', '0.005', '0.025', '0.398', '0.005', '0.024', '0.401', '0.004', '0.023', '0.398', '0.004', '0.024', '0.561', '0.005', '0.044', '41.048', '39.446', '20.093', '20.094', '20.094', '20.093', '1.365', '1.360', '1.362', '1.359', '0.104', '0.103', '0.003', '0.001', '-0.004', '0.001', '-0.001', '0.001', '-0.003', '0.001']\n",
      "mm_outputs/quad_rd53a_module7.txt\n",
      "['quad_rd53a_module7 NoVac', '0.495', '0.005', '0.027', '0.477', '0.005', '0.027', '0.446', '0.004', '0.021', '0.443', '0.004', '0.023', '0.606', '0.015', '0.050']\n",
      "['quad_rd53a_module7Vac', '0.405', '0.005', '0.027', '0.402', '0.005', '0.027', '0.403', '0.004', '0.021', '0.401', '0.005', '0.028', '0.564', '0.005', '0.029', '41.049', '39.445', '20.093', '20.094', '20.094', '20.093', '1.367', '1.362', '1.363', '1.352', '0.105', '0.100', '0.002', '0.000', '-0.006', '0.001', '0.002', '0.001', '0.033', '0.004']\n",
      "mm_outputs/quad_rd53a_module6.txt\n",
      "['quad_rd53a_module6 NoVac', '0.419', '0.005', '0.023', '0.407', '0.005', '0.022', '0.496', '0.004', '0.023', '0.495', '0.004', '0.020', '0.598', '0.014', '0.048']\n",
      "['quad_rd53a_module6Vac', '0.401', '0.005', '0.024', '0.398', '0.005', '0.022', '0.400', '0.004', '0.022', '0.397', '0.004', '0.024', '0.561', '0.005', '0.030', '41.048', '39.446', '20.091', '20.093', '20.092', '20.093', '1.366', '1.364', '1.362', '1.358', '0.103', '0.103', '0.004', '0.001', '-0.002', '0.001', '-0.001', '0.001', '-0.003', '0.001']\n",
      "mm_outputs/quad_rd53a_module8.txt\n",
      "['quad_rd53a_module8 NoVac', '0.507', '0.005', '0.023', '0.491', '0.005', '0.026', '0.437', '0.004', '0.021', '0.432', '0.004', '0.020', '0.607', '0.016', '0.056']\n",
      "['quad_rd53a_module8Vac', '0.404', '0.005', '0.024', '0.401', '0.005', '0.025', '0.404', '0.004', '0.021', '0.399', '0.005', '0.026', '0.563', '0.004', '0.026', '41.046', '39.445', '20.093', '20.093', '20.094', '20.094', '1.366', '1.362', '1.365', '1.361', '0.102', '0.102', '0.002', '0.001', '0.001', '0.001', '0.003', '0.001', '0.002', '0.001']\n"
     ]
    }
   ],
   "source": [
    "import csv\n",
    "import statistics\n",
    "sheet.append_row(column_names)\n",
    "\n",
    "for filename in files:\n",
    "    print (filename)\n",
    "    with open(filename, newline='', encoding='ISO-8859-1') as csvfile:\n",
    "        spamreader = csv.reader(csvfile, delimiter=',', quotechar='|')\n",
    "        data = []\n",
    "        novac_row = []\n",
    "        vac_row = []\n",
    "        for row in spamreader:\n",
    "            data.append(row)\n",
    "        vac_data, novac_data = sort_vac_novac(trim_data(data))\n",
    "        novac_row.append(trim_filename(filename)+\" NoVac\")\n",
    "        for el in get_novac_row(novac_data):\n",
    "            novac_row.append(el[1])\n",
    "        vac_row.append(trim_filename(filename)+\"Vac\")\n",
    "        for el in get_novac_row(vac_data):\n",
    "            vac_row.append(el[1])\n",
    "        for el in get_distances(vac_data):\n",
    "            vac_row.append(el[1])\n",
    "        print (novac_row)\n",
    "        print (vac_row)\n",
    "        sheet.append_row(novac_row)\n",
    "        sheet.append_row(vac_row)"
   ]
  }
 ],
 "metadata": {
  "kernelspec": {
   "display_name": "Python 3",
   "language": "python",
   "name": "python3"
  },
  "language_info": {
   "codemirror_mode": {
    "name": "ipython",
    "version": 3
   },
   "file_extension": ".py",
   "mimetype": "text/x-python",
   "name": "python",
   "nbconvert_exporter": "python",
   "pygments_lexer": "ipython3",
   "version": "3.8.4"
  }
 },
 "nbformat": 4,
 "nbformat_minor": 4
}
