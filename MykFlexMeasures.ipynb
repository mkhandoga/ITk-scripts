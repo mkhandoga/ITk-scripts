{
 "cells": [
  {
   "cell_type": "code",
   "execution_count": 1,
   "metadata": {},
   "outputs": [],
   "source": [
    "#Authorize the API\n",
    "scope = [\n",
    "    'https://www.googleapis.com/auth/drive',\n",
    "    'https://www.googleapis.com/auth/drive.file'\n",
    "    ]\n",
    "file_name = 'indigo-muse-308423-829adc108f27.json'\n",
    "creds = ServiceAccountCredentials.from_json_keyfile_name(file_name,scope)\n",
    "client = gspread.authorize(creds)"
   ]
  },
  {
   "cell_type": "code",
   "execution_count": 5,
   "metadata": {},
   "outputs": [
    {
     "name": "stdout",
     "output_type": "stream",
     "text": [
      "[]\n"
     ]
    }
   ],
   "source": [
    "#Fetch the sheet\n",
    "import gspread\n",
    "import pprint\n",
    "gc = gspread.service_account(\"indigo-muse-308423-829adc108f27.json\")\n",
    "sheet = gc.open_by_key(\"1TuGsXDgg0SdahDFKBd9dPFo0fV2Q2wG0BbVTeoSJeJM\").get_worksheet(3)\n",
    "python_sheet = sheet.get_all_records()\n",
    "pp = pprint.PrettyPrinter()\n",
    "pp.pprint(python_sheet)"
   ]
  },
  {
   "cell_type": "code",
   "execution_count": null,
   "metadata": {},
   "outputs": [],
   "source": []
  },
  {
   "cell_type": "code",
   "execution_count": 37,
   "metadata": {},
   "outputs": [],
   "source": [
    "def get_plan(in_vac_data):\n",
    "    planar = []\n",
    "    for el in in_vac_data:\n",
    "        if \"Flex\" in el[0] and \"number\" not in el[0]:\n",
    "            planar.append(el)\n",
    "    return planar\n",
    "\n",
    "def get_GA(in_vac_data):\n",
    "    planar = []\n",
    "    for el in in_vac_data:\n",
    "        if \"GA\" in el[0]:\n",
    "            planar.append(el)\n",
    "    return planar\n",
    "   \n",
    "\n",
    "def get_RefPlate(in_vac_data):\n",
    "    planar = []\n",
    "    for el in in_vac_data:\n",
    "        if \"RefPlateCheck\" in el[0]:\n",
    "            planar.append(el)\n",
    "    return planar\n",
    "    \n",
    "column_names = [\"Flex serial number\", \"Flex Z\",  \"Flex Planarity\", \"Flex Z RMS\",\n",
    "               \"Flex NoEdges Z\",  \"Flex NoEdges Planarity\", \"Flex NoEdges Z  RMS\",\n",
    "                \"SurfGA1\", \"SurfGA1 RMS\", \"SurfGA2\", \"SurfGA2 RMS\",\n",
    "                 \"SurfGA3\", \"SurfGA3 RMS\", \"SurfGA4\", \"SurfGA4 RMS\",\n",
    "                \"RefPlateCheck\", \"RefPlateCheck RMS\"\n",
    "               ]"
   ]
  },
  {
   "cell_type": "code",
   "execution_count": 38,
   "metadata": {},
   "outputs": [],
   "source": [
    "import glob\n",
    "files = glob.glob(\"mm_outputs/*flex*.txt\")"
   ]
  },
  {
   "cell_type": "code",
   "execution_count": 46,
   "metadata": {},
   "outputs": [
    {
     "data": {
      "text/plain": [
       "['SurfGA2 RMS', '0.005']"
      ]
     },
     "execution_count": 46,
     "metadata": {},
     "output_type": "execute_result"
    }
   ],
   "source": [
    "x = data[12]\n",
    "x = []\n",
    "x.append(\"SurfGA2\")\n",
    "x.append (data[12])\n",
    "x\n",
    "\n",
    "data[13] = [\"SurfGA2 RMS\",data[13][0] ]\n",
    "data[13]"
   ]
  },
  {
   "cell_type": "code",
   "execution_count": 47,
   "metadata": {},
   "outputs": [
    {
     "name": "stdout",
     "output_type": "stream",
     "text": [
      "mm_outputs/bareflex__20210317T154411.txt\n",
      "['\"148\"', '0.205', '0.062', '0.009', '0.204', '0.046', '0.008', '0.188', '0.007', '0.206', '0.006', '0.217', '0.005', '0.203', '0.008', '-0.019', '0.011']\n",
      "mm_outputs/bareflex__20210318T133602.txt\n",
      "['\"022\"', '0.218', '0.060', '0.009', '0.217', '0.048', '0.008', '0.205', '0.007', '0.217', '0.006', '0.227', '0.006', '0.220', '0.007', '-0.011', '0.002']\n",
      "mm_outputs/bareflex__20210317T144945.txt\n",
      "['\"027\"', '0.212', '0.054', '0.009', '0.213', '0.043', '0.008', '0.198', '0.008', '0.215', '0.006', '0.227', '0.006', '0.213', '0.007', '-0.012', '0.002']\n",
      "mm_outputs/bareflex__20210317T143308.txt\n",
      "['\"030\"', '0.213', '0.069', '0.009', '0.214', '0.049', '0.008', '0.199', '0.007', '0.216', '0.006', '0.228', '0.006', '0.213', '0.007', '-0.014', '0.014']\n",
      "mm_outputs/bareflex__20210318T130225.txt\n",
      "['\"025\"', '0.212', '0.047', '0.008', '0.213', '0.045', '0.008', '0.197', '0.007', '0.214', '0.006', '0.226', '0.006', '0.213', '0.007', '-0.012', '0.002']\n",
      "mm_outputs/bareflex__20210318T125149.txt\n",
      "['\"017\"', '0.211', '0.062', '0.009', '0.211', '0.047', '0.008', '0.196', '0.006', '0.215', '0.004', '0.224', '0.004', '0.212', '0.007', '-0.019', '0.016']\n",
      "mm_outputs/bareflex__20210317T162855.txt\n",
      "['\"015\"', '0.211', '0.087', '0.012', '0.211', '0.061', '0.010', '0.194', '0.007', '0.210', '0.006', '0.222', '0.006', '0.223', '0.006', '-0.014', '0.003']\n",
      "mm_outputs/bareflex__20210318T132408.txt\n",
      "['\"020\"', '0.213', '0.067', '0.009', '0.212', '0.043', '0.007', '0.197', '0.006', '0.217', '0.005', '0.224', '0.004', '0.211', '0.007', '-0.011', '0.002']\n",
      "mm_outputs/module7_flex027.txt\n",
      "['\"027\"', '0.278', '0.080', '0.014', '0.282', '0.055', '0.010', '0.272', '0.005', '\"Plan SurfGA2: Centre Z\"', '\"Plan SurfGA2: Erreur Résiduelle RMS\"', '0.292', '0.004', '0.276', '0.005', '0.007', '0.001']\n",
      "mm_outputs/bareflex__20210318T131333.txt\n",
      "['\"023\"', '0.212', '0.066', '0.010', '0.213', '0.043', '0.008', '0.199', '0.007', '0.216', '0.006', '0.225', '0.006', '0.213', '0.007', '-0.014', '0.017']\n",
      "mm_outputs/bareflex__20210318T123915.txt\n",
      "['\"016\"', '0.204', '0.052', '0.009', '0.205', '0.048', '0.009', '0.189', '0.007', '0.206', '0.006', '0.219', '0.006', '0.206', '0.009', '-0.016', '0.002']\n",
      "mm_outputs/module7_flex027_FE.txt\n"
     ]
    },
    {
     "ename": "FileNotFoundError",
     "evalue": "[Errno 2] No such file or directory: 'mm_outputs/module7_flex027_FE.txt'",
     "output_type": "error",
     "traceback": [
      "\u001b[0;31m---------------------------------------------------------------------------\u001b[0m",
      "\u001b[0;31mFileNotFoundError\u001b[0m                         Traceback (most recent call last)",
      "\u001b[0;32m<ipython-input-47-d255672c4378>\u001b[0m in \u001b[0;36m<module>\u001b[0;34m\u001b[0m\n\u001b[1;32m      5\u001b[0m \u001b[0;32mfor\u001b[0m \u001b[0mfilename\u001b[0m \u001b[0;32min\u001b[0m \u001b[0mfiles\u001b[0m\u001b[0;34m:\u001b[0m\u001b[0;34m\u001b[0m\u001b[0;34m\u001b[0m\u001b[0m\n\u001b[1;32m      6\u001b[0m     \u001b[0mprint\u001b[0m \u001b[0;34m(\u001b[0m\u001b[0mfilename\u001b[0m\u001b[0;34m)\u001b[0m\u001b[0;34m\u001b[0m\u001b[0;34m\u001b[0m\u001b[0m\n\u001b[0;32m----> 7\u001b[0;31m     \u001b[0;32mwith\u001b[0m \u001b[0mopen\u001b[0m\u001b[0;34m(\u001b[0m\u001b[0mfilename\u001b[0m\u001b[0;34m,\u001b[0m \u001b[0mnewline\u001b[0m\u001b[0;34m=\u001b[0m\u001b[0;34m''\u001b[0m\u001b[0;34m,\u001b[0m \u001b[0mencoding\u001b[0m\u001b[0;34m=\u001b[0m\u001b[0;34m'ISO-8859-1'\u001b[0m\u001b[0;34m)\u001b[0m \u001b[0;32mas\u001b[0m \u001b[0mcsvfile\u001b[0m\u001b[0;34m:\u001b[0m\u001b[0;34m\u001b[0m\u001b[0;34m\u001b[0m\u001b[0m\n\u001b[0m\u001b[1;32m      8\u001b[0m         \u001b[0mspamreader\u001b[0m \u001b[0;34m=\u001b[0m \u001b[0mcsv\u001b[0m\u001b[0;34m.\u001b[0m\u001b[0mreader\u001b[0m\u001b[0;34m(\u001b[0m\u001b[0mcsvfile\u001b[0m\u001b[0;34m,\u001b[0m \u001b[0mdelimiter\u001b[0m\u001b[0;34m=\u001b[0m\u001b[0;34m','\u001b[0m\u001b[0;34m,\u001b[0m \u001b[0mquotechar\u001b[0m\u001b[0;34m=\u001b[0m\u001b[0;34m'|'\u001b[0m\u001b[0;34m)\u001b[0m\u001b[0;34m\u001b[0m\u001b[0;34m\u001b[0m\u001b[0m\n\u001b[1;32m      9\u001b[0m         \u001b[0mdata\u001b[0m \u001b[0;34m=\u001b[0m \u001b[0;34m[\u001b[0m\u001b[0;34m]\u001b[0m\u001b[0;34m\u001b[0m\u001b[0;34m\u001b[0m\u001b[0m\n",
      "\u001b[0;31mFileNotFoundError\u001b[0m: [Errno 2] No such file or directory: 'mm_outputs/module7_flex027_FE.txt'"
     ]
    }
   ],
   "source": [
    "import csv\n",
    "import statistics\n",
    "sheet.append_row(column_names)\n",
    "\n",
    "for filename in files:\n",
    "    print (filename)\n",
    "    with open(filename, newline='', encoding='ISO-8859-1') as csvfile:\n",
    "        spamreader = csv.reader(csvfile, delimiter=',', quotechar='|')\n",
    "        data = []\n",
    "        flex_row = []\n",
    "        for row in spamreader:\n",
    "            data.append(row)\n",
    "        data[12] = [\"SurfGA2\",data[12][0] ]\n",
    "        data[13] = [\"SurfGA2 RMS\",data[13][0] ]\n",
    "        flex_row.append(data[2][0])\n",
    "        for el in get_plan((data)):\n",
    "            flex_row.append(el[1])\n",
    "        for el in get_GA((data)):\n",
    "            flex_row.append(el[1])\n",
    "        for el in get_RefPlate((data)):\n",
    "            flex_row.append(el[1])\n",
    "        print (flex_row)\n",
    "        sheet.append_row(flex_row)\n"
   ]
  },
  {
   "cell_type": "code",
   "execution_count": 14,
   "metadata": {},
   "outputs": [
    {
     "data": {
      "text/plain": [
       "[[':BEGIN'],\n",
       " ['\"Flex serial number\"'],\n",
       " ['\"148\"'],\n",
       " ['\"2021-03-17 15:44:14\"'],\n",
       " ['\"Rectangle 7: Largeur\"', '40.453'],\n",
       " ['\"Rectangle 7: Hauteur\"', '40.438'],\n",
       " ['\"Plan EdgeLeft: Centre Z\"', '0.137'],\n",
       " ['\"Plan EdgeLeft: Erreur Résiduelle RMS\"', '0.028'],\n",
       " ['\"Plan EdgeRight: Centre Z\"', '0.205'],\n",
       " ['\"Plan EdgeRight: Erreur Résiduelle RMS\"', '0.010'],\n",
       " ['\"Plan SurfGA1: Centre Z\"', '0.188'],\n",
       " ['\"Plan SurfGA1: Erreur Résiduelle RMS\"', '0.007'],\n",
       " ['0.206'],\n",
       " ['0.006'],\n",
       " ['\"Plan SurfGA3: Centre Z\"', '0.217'],\n",
       " ['\"Plan SurfGA3: Erreur Résiduelle RMS\"', '0.005'],\n",
       " ['\"Plan SurfGA4: Centre Z\"', '0.203'],\n",
       " ['\"Plan SurfGA4: Erreur Résiduelle RMS\"', '0.008'],\n",
       " ['\"Plan Flex: Centre Z\"', '0.205'],\n",
       " ['\"Plan Flex: Planéité\"', '0.062'],\n",
       " ['\"Plan Flex: Erreur Résiduelle RMS\"', '0.009'],\n",
       " ['\"Plan FlexNoBorders: Centre Z\"', '0.204'],\n",
       " ['\"Plan FlexNoBorders: Planéité\"', '0.046'],\n",
       " ['\"Plan FlexNoBorders: Erreur Résiduelle RMS\"', '0.008'],\n",
       " ['\"Distance CapHeight: Distance Z\"', '1.658'],\n",
       " ['\"Distance ConnectorHeight: Distance Z\"', '1.144'],\n",
       " ['\"Plan RefPlateCheck: Centre Z\"', '-0.019'],\n",
       " ['\"Plan RefPlateCheck: Erreur Résiduelle RMS\"', '0.011'],\n",
       " ['\"Plan BelowHV: Centre Z\"', '0.200'],\n",
       " ['\"Plan BelowHV: Erreur Résiduelle RMS\"', '0.004'],\n",
       " [':END']]"
      ]
     },
     "execution_count": 14,
     "metadata": {},
     "output_type": "execute_result"
    }
   ],
   "source": [
    "data"
   ]
  },
  {
   "cell_type": "code",
   "execution_count": null,
   "metadata": {},
   "outputs": [],
   "source": []
  }
 ],
 "metadata": {
  "kernelspec": {
   "display_name": "Python 3",
   "language": "python",
   "name": "python3"
  },
  "language_info": {
   "codemirror_mode": {
    "name": "ipython",
    "version": 3
   },
   "file_extension": ".py",
   "mimetype": "text/x-python",
   "name": "python",
   "nbconvert_exporter": "python",
   "pygments_lexer": "ipython3",
   "version": "3.8.4"
  }
 },
 "nbformat": 4,
 "nbformat_minor": 4
}
